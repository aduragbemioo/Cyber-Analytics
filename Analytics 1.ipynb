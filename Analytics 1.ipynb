{
 "cells": [
  {
   "cell_type": "markdown",
   "metadata": {},
   "source": [
    "# Cyber Security Analytics\n",
    "\n",
    "Conducting an investigation on a web server logs to identify malicious attack activity using Python data science libraries."
   ]
  },
  {
   "cell_type": "code",
   "execution_count": 2,
   "metadata": {},
   "outputs": [
    {
     "data": {
      "text/html": [
       "<div>\n",
       "<style scoped>\n",
       "    .dataframe tbody tr th:only-of-type {\n",
       "        vertical-align: middle;\n",
       "    }\n",
       "\n",
       "    .dataframe tbody tr th {\n",
       "        vertical-align: top;\n",
       "    }\n",
       "\n",
       "    .dataframe thead th {\n",
       "        text-align: right;\n",
       "    }\n",
       "</style>\n",
       "<table border=\"1\" class=\"dataframe\">\n",
       "  <thead>\n",
       "    <tr style=\"text-align: right;\">\n",
       "      <th></th>\n",
       "      <th>date</th>\n",
       "      <th>time</th>\n",
       "      <th>s-ip</th>\n",
       "      <th>cs-method</th>\n",
       "      <th>cs-uri-stem</th>\n",
       "      <th>cs-uri-query</th>\n",
       "      <th>s-port</th>\n",
       "      <th>cs-username</th>\n",
       "      <th>c-ip</th>\n",
       "      <th>cs(User-Agent)</th>\n",
       "      <th>cs(Referer)</th>\n",
       "      <th>sc-status</th>\n",
       "      <th>sc-substatus</th>\n",
       "      <th>sc-win32-status</th>\n",
       "      <th>time-taken</th>\n",
       "    </tr>\n",
       "  </thead>\n",
       "  <tbody>\n",
       "    <tr>\n",
       "      <th>0</th>\n",
       "      <td>2022-01-01</td>\n",
       "      <td>04:07:00</td>\n",
       "      <td>57.213.70.113</td>\n",
       "      <td>GET</td>\n",
       "      <td>template.css</td>\n",
       "      <td>v=uwixfkca</td>\n",
       "      <td>443</td>\n",
       "      <td>-</td>\n",
       "      <td>92.123.193.245</td>\n",
       "      <td>Mozilla/4.0+(compatible;+MSIE+6.0;+Windows+NT+...</td>\n",
       "      <td>-</td>\n",
       "      <td>200</td>\n",
       "      <td>0</td>\n",
       "      <td>0</td>\n",
       "      <td>24</td>\n",
       "    </tr>\n",
       "    <tr>\n",
       "      <th>1</th>\n",
       "      <td>2022-01-01</td>\n",
       "      <td>04:07:00</td>\n",
       "      <td>57.213.70.113</td>\n",
       "      <td>GET</td>\n",
       "      <td>template.css</td>\n",
       "      <td>v=igohhmua</td>\n",
       "      <td>443</td>\n",
       "      <td>-</td>\n",
       "      <td>92.123.193.245</td>\n",
       "      <td>Mozilla/4.0+(compatible;+MSIE+6.0;+Windows+NT+...</td>\n",
       "      <td>-</td>\n",
       "      <td>200</td>\n",
       "      <td>0</td>\n",
       "      <td>0</td>\n",
       "      <td>21</td>\n",
       "    </tr>\n",
       "    <tr>\n",
       "      <th>2</th>\n",
       "      <td>2022-01-01</td>\n",
       "      <td>04:07:00</td>\n",
       "      <td>57.213.70.113</td>\n",
       "      <td>GET</td>\n",
       "      <td>hsvlyggz.css</td>\n",
       "      <td>-</td>\n",
       "      <td>443</td>\n",
       "      <td>-</td>\n",
       "      <td>92.123.193.245</td>\n",
       "      <td>Mozilla/4.0+(compatible;+MSIE+6.0;+Windows+NT+...</td>\n",
       "      <td>-</td>\n",
       "      <td>404</td>\n",
       "      <td>0</td>\n",
       "      <td>0</td>\n",
       "      <td>26</td>\n",
       "    </tr>\n",
       "    <tr>\n",
       "      <th>3</th>\n",
       "      <td>2022-01-01</td>\n",
       "      <td>04:07:00</td>\n",
       "      <td>57.213.70.113</td>\n",
       "      <td>GET</td>\n",
       "      <td>index.aspx</td>\n",
       "      <td>-</td>\n",
       "      <td>443</td>\n",
       "      <td>-</td>\n",
       "      <td>92.123.193.245</td>\n",
       "      <td>Mozilla/4.0+(compatible;+MSIE+6.0;+Windows+NT+...</td>\n",
       "      <td>-</td>\n",
       "      <td>200</td>\n",
       "      <td>0</td>\n",
       "      <td>0</td>\n",
       "      <td>26</td>\n",
       "    </tr>\n",
       "    <tr>\n",
       "      <th>4</th>\n",
       "      <td>2022-01-01</td>\n",
       "      <td>04:07:16</td>\n",
       "      <td>57.213.70.113</td>\n",
       "      <td>GET</td>\n",
       "      <td>favico.ico</td>\n",
       "      <td>-</td>\n",
       "      <td>443</td>\n",
       "      <td>-</td>\n",
       "      <td>92.123.193.245</td>\n",
       "      <td>Mozilla/4.0+(compatible;+MSIE+6.0;+Windows+NT+...</td>\n",
       "      <td>https://bankofpunk.local/index.aspx</td>\n",
       "      <td>200</td>\n",
       "      <td>0</td>\n",
       "      <td>0</td>\n",
       "      <td>24</td>\n",
       "    </tr>\n",
       "    <tr>\n",
       "      <th>...</th>\n",
       "      <td>...</td>\n",
       "      <td>...</td>\n",
       "      <td>...</td>\n",
       "      <td>...</td>\n",
       "      <td>...</td>\n",
       "      <td>...</td>\n",
       "      <td>...</td>\n",
       "      <td>...</td>\n",
       "      <td>...</td>\n",
       "      <td>...</td>\n",
       "      <td>...</td>\n",
       "      <td>...</td>\n",
       "      <td>...</td>\n",
       "      <td>...</td>\n",
       "      <td>...</td>\n",
       "    </tr>\n",
       "    <tr>\n",
       "      <th>70705</th>\n",
       "      <td>2022-01-30</td>\n",
       "      <td>23:36:34</td>\n",
       "      <td>57.213.70.113</td>\n",
       "      <td>GET</td>\n",
       "      <td>footer.css</td>\n",
       "      <td>-</td>\n",
       "      <td>443</td>\n",
       "      <td>ry814066</td>\n",
       "      <td>194.202.68.159</td>\n",
       "      <td>Mozilla/5.0+(iPhone;+CPU+iPhone+OS+12_4_1+like...</td>\n",
       "      <td>https://bankofpunk.local/transactions.aspx</td>\n",
       "      <td>200</td>\n",
       "      <td>0</td>\n",
       "      <td>0</td>\n",
       "      <td>28</td>\n",
       "    </tr>\n",
       "    <tr>\n",
       "      <th>70706</th>\n",
       "      <td>2022-01-30</td>\n",
       "      <td>23:36:34</td>\n",
       "      <td>57.213.70.113</td>\n",
       "      <td>GET</td>\n",
       "      <td>ljjsfyon.js</td>\n",
       "      <td>v=599940</td>\n",
       "      <td>443</td>\n",
       "      <td>ry814066</td>\n",
       "      <td>194.202.68.159</td>\n",
       "      <td>Mozilla/5.0+(iPhone;+CPU+iPhone+OS+12_4_1+like...</td>\n",
       "      <td>https://bankofpunk.local/transactions.aspx</td>\n",
       "      <td>200</td>\n",
       "      <td>0</td>\n",
       "      <td>0</td>\n",
       "      <td>30</td>\n",
       "    </tr>\n",
       "    <tr>\n",
       "      <th>70707</th>\n",
       "      <td>2022-01-30</td>\n",
       "      <td>23:36:34</td>\n",
       "      <td>57.213.70.113</td>\n",
       "      <td>GET</td>\n",
       "      <td>transactions.aspx</td>\n",
       "      <td>page=3</td>\n",
       "      <td>443</td>\n",
       "      <td>ry814066</td>\n",
       "      <td>194.202.68.159</td>\n",
       "      <td>Mozilla/5.0+(iPhone;+CPU+iPhone+OS+12_4_1+like...</td>\n",
       "      <td>https://bankofpunk.local/transactions.aspx</td>\n",
       "      <td>200</td>\n",
       "      <td>0</td>\n",
       "      <td>0</td>\n",
       "      <td>22</td>\n",
       "    </tr>\n",
       "    <tr>\n",
       "      <th>70708</th>\n",
       "      <td>2022-01-30</td>\n",
       "      <td>23:36:46</td>\n",
       "      <td>57.213.70.113</td>\n",
       "      <td>GET</td>\n",
       "      <td>template.css</td>\n",
       "      <td>v=tvjgabsg</td>\n",
       "      <td>443</td>\n",
       "      <td>ry814066</td>\n",
       "      <td>194.202.68.159</td>\n",
       "      <td>Mozilla/5.0+(iPhone;+CPU+iPhone+OS+12_4_1+like...</td>\n",
       "      <td>https://bankofpunk.local/transactions.aspx</td>\n",
       "      <td>200</td>\n",
       "      <td>0</td>\n",
       "      <td>0</td>\n",
       "      <td>20</td>\n",
       "    </tr>\n",
       "    <tr>\n",
       "      <th>70709</th>\n",
       "      <td>2022-01-30</td>\n",
       "      <td>23:36:46</td>\n",
       "      <td>57.213.70.113</td>\n",
       "      <td>GET</td>\n",
       "      <td>transactions.aspx</td>\n",
       "      <td>page=4</td>\n",
       "      <td>443</td>\n",
       "      <td>ry814066</td>\n",
       "      <td>194.202.68.159</td>\n",
       "      <td>Mozilla/5.0+(iPhone;+CPU+iPhone+OS+12_4_1+like...</td>\n",
       "      <td>https://bankofpunk.local/transactions.aspx</td>\n",
       "      <td>200</td>\n",
       "      <td>0</td>\n",
       "      <td>0</td>\n",
       "      <td>25</td>\n",
       "    </tr>\n",
       "  </tbody>\n",
       "</table>\n",
       "<p>70710 rows × 15 columns</p>\n",
       "</div>"
      ],
      "text/plain": [
       "             date      time           s-ip cs-method        cs-uri-stem  \\\n",
       "0      2022-01-01  04:07:00  57.213.70.113       GET       template.css   \n",
       "1      2022-01-01  04:07:00  57.213.70.113       GET       template.css   \n",
       "2      2022-01-01  04:07:00  57.213.70.113       GET       hsvlyggz.css   \n",
       "3      2022-01-01  04:07:00  57.213.70.113       GET         index.aspx   \n",
       "4      2022-01-01  04:07:16  57.213.70.113       GET         favico.ico   \n",
       "...           ...       ...            ...       ...                ...   \n",
       "70705  2022-01-30  23:36:34  57.213.70.113       GET         footer.css   \n",
       "70706  2022-01-30  23:36:34  57.213.70.113       GET        ljjsfyon.js   \n",
       "70707  2022-01-30  23:36:34  57.213.70.113       GET  transactions.aspx   \n",
       "70708  2022-01-30  23:36:46  57.213.70.113       GET       template.css   \n",
       "70709  2022-01-30  23:36:46  57.213.70.113       GET  transactions.aspx   \n",
       "\n",
       "      cs-uri-query  s-port cs-username            c-ip  \\\n",
       "0       v=uwixfkca     443           -  92.123.193.245   \n",
       "1       v=igohhmua     443           -  92.123.193.245   \n",
       "2                -     443           -  92.123.193.245   \n",
       "3                -     443           -  92.123.193.245   \n",
       "4                -     443           -  92.123.193.245   \n",
       "...            ...     ...         ...             ...   \n",
       "70705            -     443    ry814066  194.202.68.159   \n",
       "70706     v=599940     443    ry814066  194.202.68.159   \n",
       "70707       page=3     443    ry814066  194.202.68.159   \n",
       "70708   v=tvjgabsg     443    ry814066  194.202.68.159   \n",
       "70709       page=4     443    ry814066  194.202.68.159   \n",
       "\n",
       "                                          cs(User-Agent)  \\\n",
       "0      Mozilla/4.0+(compatible;+MSIE+6.0;+Windows+NT+...   \n",
       "1      Mozilla/4.0+(compatible;+MSIE+6.0;+Windows+NT+...   \n",
       "2      Mozilla/4.0+(compatible;+MSIE+6.0;+Windows+NT+...   \n",
       "3      Mozilla/4.0+(compatible;+MSIE+6.0;+Windows+NT+...   \n",
       "4      Mozilla/4.0+(compatible;+MSIE+6.0;+Windows+NT+...   \n",
       "...                                                  ...   \n",
       "70705  Mozilla/5.0+(iPhone;+CPU+iPhone+OS+12_4_1+like...   \n",
       "70706  Mozilla/5.0+(iPhone;+CPU+iPhone+OS+12_4_1+like...   \n",
       "70707  Mozilla/5.0+(iPhone;+CPU+iPhone+OS+12_4_1+like...   \n",
       "70708  Mozilla/5.0+(iPhone;+CPU+iPhone+OS+12_4_1+like...   \n",
       "70709  Mozilla/5.0+(iPhone;+CPU+iPhone+OS+12_4_1+like...   \n",
       "\n",
       "                                      cs(Referer)  sc-status  sc-substatus  \\\n",
       "0                                               -        200             0   \n",
       "1                                               -        200             0   \n",
       "2                                               -        404             0   \n",
       "3                                               -        200             0   \n",
       "4             https://bankofpunk.local/index.aspx        200             0   \n",
       "...                                           ...        ...           ...   \n",
       "70705  https://bankofpunk.local/transactions.aspx        200             0   \n",
       "70706  https://bankofpunk.local/transactions.aspx        200             0   \n",
       "70707  https://bankofpunk.local/transactions.aspx        200             0   \n",
       "70708  https://bankofpunk.local/transactions.aspx        200             0   \n",
       "70709  https://bankofpunk.local/transactions.aspx        200             0   \n",
       "\n",
       "       sc-win32-status  time-taken  \n",
       "0                    0          24  \n",
       "1                    0          21  \n",
       "2                    0          26  \n",
       "3                    0          26  \n",
       "4                    0          24  \n",
       "...                ...         ...  \n",
       "70705                0          28  \n",
       "70706                0          30  \n",
       "70707                0          22  \n",
       "70708                0          20  \n",
       "70709                0          25  \n",
       "\n",
       "[70710 rows x 15 columns]"
      ]
     },
     "execution_count": 2,
     "metadata": {},
     "output_type": "execute_result"
    }
   ],
   "source": [
    "# Import libraries as required\n",
    "import pandas as pd\n",
    "import numpy as np\n",
    "import matplotlib.pyplot as plt\n",
    "pd.set_option('display.max_rows', 10)\n",
    "\n",
    "data_file = 'ao2-oladapo'\n",
    "\n",
    "\n",
    "# Load in the data set as required - \n",
    "data_path = 'C:\\Users\\lordj\\Desktop\\Jupyter'\n",
    "data = pd.read_csv(data_path + data_file, delim_whitespace=True)\n",
    "#data.to_csv('out.csv')\n",
    "temp_df = data[data.columns[:-1]]\n",
    "temp_df.columns = data.columns[1:]\n",
    "data = temp_df\n",
    "data"
   ]
  },
  {
   "cell_type": "code",
   "execution_count": 2,
   "metadata": {},
   "outputs": [
    {
     "data": {
      "text/plain": [
       "Index(['date', 'time', 's-ip', 'cs-method', 'cs-uri-stem', 'cs-uri-query',\n",
       "       's-port', 'cs-username', 'c-ip', 'cs(User-Agent)', 'cs(Referer)',\n",
       "       'sc-status', 'sc-substatus', 'sc-win32-status', 'time-taken'],\n",
       "      dtype='object')"
      ]
     },
     "execution_count": 2,
     "metadata": {},
     "output_type": "execute_result"
    }
   ],
   "source": [
    "# Get all column names\n",
    "data.columns"
   ]
  },
  {
   "cell_type": "code",
   "execution_count": 3,
   "metadata": {},
   "outputs": [
    {
     "data": {
      "text/plain": [
       "array(['-', 'https://bankofpunk.local/index.aspx',\n",
       "       'https://bankofpunk.local/login.aspx',\n",
       "       'https://bankofpunk.local/account_status.aspx',\n",
       "       'https://bankofpunk.local/transactions.aspx',\n",
       "       'https://bankofpunk.local/transfer.aspx',\n",
       "       'https://bankofpunk.local/faq.aspx',\n",
       "       'https://bankofpunk.local/transfer_complete.aspx',\n",
       "       'https://bankofpunk.local/changepassword.aspx',\n",
       "       'https://bankofpunk.local/change_avatar.aspx'], dtype=object)"
      ]
     },
     "execution_count": 3,
     "metadata": {},
     "output_type": "execute_result"
    }
   ],
   "source": [
    "# Search for all unique entries in 'cs(Referer)'\n",
    "data['cs(Referer)'].unique()"
   ]
  },
  {
   "cell_type": "code",
   "execution_count": 8,
   "metadata": {
    "scrolled": true
   },
   "outputs": [
    {
     "data": {
      "text/plain": [
       "https://bankofpunk.local/transactions.aspx         23346\n",
       "https://bankofpunk.local/index.aspx                18160\n",
       "https://bankofpunk.local/login.aspx                13718\n",
       "https://bankofpunk.local/account_status.aspx        6228\n",
       "-                                                   5964\n",
       "https://bankofpunk.local/transfer.aspx              1924\n",
       "https://bankofpunk.local/changepassword.aspx         617\n",
       "https://bankofpunk.local/faq.aspx                    354\n",
       "https://bankofpunk.local/transfer_complete.aspx      305\n",
       "https://bankofpunk.local/change_avatar.aspx           94\n",
       "Name: cs(Referer), dtype: int64"
      ]
     },
     "execution_count": 8,
     "metadata": {},
     "output_type": "execute_result"
    }
   ],
   "source": [
    "# Get count of each unique value for 'cs(Referer)'\n",
    "data['cs(Referer)'].value_counts()"
   ]
  },
  {
   "cell_type": "code",
   "execution_count": 8,
   "metadata": {},
   "outputs": [
    {
     "data": {
      "image/png": "[encoded data removed]",
      "text/plain": [
       "<Figure size 1440x360 with 1 Axes>"
      ]
     },
     "metadata": {
      "needs_background": "light"
     },
     "output_type": "display_data"
    }
   ],
   "source": [
    "# Plot the first 100 values for the 'time-taken' column\n",
    "plt.figure(figsize=(20,5))\n",
    "plt.plot(data['time-taken'][:100])\n",
    "plt.show()"
   ]
  },
  {
   "cell_type": "code",
   "execution_count": 9,
   "metadata": {},
   "outputs": [
    {
     "data": {
      "text/plain": [
       "GET     67386\n",
       "POST     3324\n",
       "Name: cs-method, dtype: int64"
      ]
     },
     "execution_count": 9,
     "metadata": {},
     "output_type": "execute_result"
    }
   ],
   "source": [
    "data['cs-method'].value_counts()"
   ]
  },
  {
   "cell_type": "markdown",
   "metadata": {},
   "source": [
    "**I started my investigation** by retrieving a summary of the HTTP methods avaialable in the logs, this allowed me to determine the sort of actions being performed, there are two methods in use\n",
    "- POST: This implies that data is being submitted to the web server\n",
    "- GET: This implies that information is being requested from the web server"
   ]
  },
  {
   "cell_type": "code",
   "execution_count": 18,
   "metadata": {},
   "outputs": [
    {
     "data": {
      "text/plain": [
       "443    70710\n",
       "Name: s-port, dtype: int64"
      ]
     },
     "execution_count": 18,
     "metadata": {},
     "output_type": "execute_result"
    }
   ],
   "source": [
    "data['s-port'].value_counts()"
   ]
  },
  {
   "cell_type": "markdown",
   "metadata": {},
   "source": [
    "Retrieval of a summary on the ports in the log to determine if any request was transmitted via HTTP, the presence of only port \"443\" indicates that all queries were sent using the secure protocol, HTTPS."
   ]
  },
  {
   "cell_type": "code",
   "execution_count": 62,
   "metadata": {},
   "outputs": [
    {
     "data": {
      "text/plain": [
       "200    59292\n",
       "404     5901\n",
       "301     4647\n",
       "401      870\n",
       "Name: sc-status, dtype: int64"
      ]
     },
     "execution_count": 62,
     "metadata": {},
     "output_type": "execute_result"
    }
   ],
   "source": [
    "data['sc-status'].value_counts()"
   ]
  },
  {
   "cell_type": "markdown",
   "metadata": {},
   "source": [
    "To determine the presence of strange response codes or multiple unauthorised attempts, a summary of the HTTP status codes existing in the log is queried."
   ]
  },
  {
   "cell_type": "code",
   "execution_count": 2,
   "metadata": {},
   "outputs": [
    {
     "data": {
      "text/plain": [
       "149.5.250.189     287\n",
       "192.151.139.83    215\n",
       "195.12.35.175     201\n",
       "185.227.52.167    148\n",
       "193.201.92.65     144\n",
       "57.246.139.228    141\n",
       "83.146.21.50      140\n",
       "146.70.35.29      140\n",
       "185.144.222.67    135\n",
       "80.75.221.83      131\n",
       "Name: c-ip, dtype: int64"
      ]
     },
     "execution_count": 2,
     "metadata": {},
     "output_type": "execute_result"
    }
   ],
   "source": [
    "data['c-ip'].value_counts().head(n=10)"
   ]
  },
  {
   "cell_type": "markdown",
   "metadata": {},
   "source": [
    "The top 10 IP addresses are listed in order of the number of times they appear in the log, which indicates how many times they've made a request to the web server. This is to see whether any of the IP addresses are sending an unusually large number of requests."
   ]
  },
  {
   "cell_type": "code",
   "execution_count": 4,
   "metadata": {},
   "outputs": [
    {
     "name": "stdout",
     "output_type": "stream",
     "text": [
      "sc-status    200   301  401   404\n",
      "cs-method                        \n",
      "GET        58975  2510    0  5901\n",
      "POST         317  2137  870     0\n"
     ]
    }
   ],
   "source": [
    "group_method_st= pd.crosstab(data['cs-method'],data['sc-status'])\n",
    "print(group_method_st)"
   ]
  },
  {
   "cell_type": "markdown",
   "metadata": {},
   "source": [
    "Checking HTTP methods against status codes. It demonstrates that there are some 401 post requests."
   ]
  },
  {
   "cell_type": "code",
   "execution_count": 14,
   "metadata": {},
   "outputs": [
    {
     "name": "stdout",
     "output_type": "stream",
     "text": [
      "cs-method       GET  POST\n",
      "c-ip                     \n",
      "149.5.250.189    66   221\n",
      "192.151.139.83   65   150\n",
      "195.12.35.175    71   130\n",
      "83.146.21.50    131     9\n",
      "194.63.118.55    75     9\n",
      "192.189.41.151  117     9\n",
      "88.214.51.233   113     8\n",
      "178.21.35.137    98     8\n",
      "212.90.113.10   103     8\n",
      "192.77.138.137  119     8\n"
     ]
    }
   ],
   "source": [
    "table_grouping_method= pd.crosstab(data['c-ip'],data['cs-method'])\n",
    "sorted_grouping_method=table_grouping_method.sort_values(by='POST', ascending=False).head(n=10)\n",
    "print(sorted_grouping_method)"
   ]
  },
  {
   "cell_type": "markdown",
   "metadata": {},
   "source": [
    "An attempt to idenitfy the likely source client ip addresses that are sending the unauthorized post requests. \n",
    "<br>\n",
    "The IP addresses below have the highest counts of POST requests\n",
    "1. 149.5.250.189    221\n",
    "2. 192.151.139.83   150\n",
    "3. 195.12.35.175    130"
   ]
  },
  {
   "cell_type": "code",
   "execution_count": 18,
   "metadata": {},
   "outputs": [
    {
     "data": {
      "image/png": "[encoded data removed]",
      "text/plain": [
       "<Figure size 1440x720 with 1 Axes>"
      ]
     },
     "metadata": {
      "needs_background": "light"
     },
     "output_type": "display_data"
    }
   ],
   "source": [
    "sorted_grouping_method.plot(kind='bar', rot=0, title=\"IP Addresses In Relation to HTTP Methods\", figsize=(20,10)).grid(False)\n",
    "plt.show()"
   ]
  },
  {
   "cell_type": "markdown",
   "metadata": {},
   "source": [
    "This bar chart shows a visualization of the top ten client ip addresses in terms of POST requests"
   ]
  },
  {
   "cell_type": "code",
   "execution_count": 87,
   "metadata": {},
   "outputs": [
    {
     "name": "stdout",
     "output_type": "stream",
     "text": [
      "                c-ip  sc-status  counts\n",
      "275    149.5.250.189        401     214\n",
      "1090  192.151.139.83        401     143\n",
      "1492   195.12.35.175        401     123\n",
      "1451   194.63.118.55        401       6\n",
      "1110  192.189.41.151        401       5\n",
      "2841    83.146.21.50        401       5\n",
      "558    178.21.35.137        401       5\n",
      "2978    89.197.59.19        401       5\n",
      "2943    87.238.78.13        401       4\n",
      "1019  188.119.155.16        401       4\n"
     ]
    }
   ],
   "source": [
    "analysis_frame_group=data.groupby(['c-ip', 'sc-status']).size()\n",
    "\n",
    "count_status=analysis_frame_group.to_frame(name=\"counts\").reset_index()\n",
    "\n",
    "count_401_sorted = (count_status[(count_401['sc-status']==401)]).sort_values(by='counts', ascending = False).head(n=10)\n",
    "print(count_401_sorted)"
   ]
  },
  {
   "cell_type": "markdown",
   "metadata": {},
   "source": [
    "# 401\n",
    "This summary shows that the IP addresses below have the highest number of unauthorized attempt status code (401), however that is not enough to draw any conclusion as the attempts can be valid attempts over a long a period of time\n",
    "<br>\n",
    "\n",
    "1. 149.5.250.189         214\n",
    "2. 192.151.139.83        143\n",
    "3. 195.12.35.175         123"
   ]
  },
  {
   "cell_type": "code",
   "execution_count": 85,
   "metadata": {},
   "outputs": [
    {
     "name": "stdout",
     "output_type": "stream",
     "text": [
      "             date      time           c-ip  sc-status  counts\n",
      "23934  2022-01-22  12:15:19  149.5.250.189        401       1\n",
      "23935  2022-01-22  12:15:22  149.5.250.189        401       1\n",
      "23936  2022-01-22  12:15:24  149.5.250.189        401       1\n",
      "23937  2022-01-22  12:15:27  149.5.250.189        401       1\n",
      "23938  2022-01-22  12:15:30  149.5.250.189        401       1\n",
      "23939  2022-01-22  12:15:33  149.5.250.189        401       1\n",
      "23940  2022-01-22  12:15:35  149.5.250.189        401       1\n",
      "23941  2022-01-22  12:15:37  149.5.250.189        401       1\n",
      "23942  2022-01-22  12:15:39  149.5.250.189        401       1\n",
      "23943  2022-01-22  12:15:40  149.5.250.189        401       1\n",
      "23946  2022-01-22  12:15:43  149.5.250.189        401       1\n",
      "23947  2022-01-22  12:15:44  149.5.250.189        401       1\n",
      "23948  2022-01-22  12:15:46  149.5.250.189        401       1\n",
      "23949  2022-01-22  12:15:47  149.5.250.189        401       1\n",
      "23950  2022-01-22  12:15:49  149.5.250.189        401       1\n",
      "23951  2022-01-22  12:15:52  149.5.250.189        401       1\n",
      "23952  2022-01-22  12:15:53  149.5.250.189        401       1\n",
      "23953  2022-01-22  12:15:56  149.5.250.189        401       1\n",
      "23954  2022-01-22  12:15:57  149.5.250.189        401       1\n",
      "23955  2022-01-22  12:16:00  149.5.250.189        401       1\n",
      "23956  2022-01-22  12:16:02  149.5.250.189        401       1\n",
      "23957  2022-01-22  12:16:03  149.5.250.189        401       1\n",
      "23958  2022-01-22  12:16:04  149.5.250.189        401       1\n",
      "23959  2022-01-22  12:16:05  149.5.250.189        401       1\n",
      "23960  2022-01-22  12:16:06  149.5.250.189        401       1\n",
      "23961  2022-01-22  12:16:07  149.5.250.189        401       1\n",
      "23963  2022-01-22  12:16:10  149.5.250.189        401       1\n",
      "23964  2022-01-22  12:16:12  149.5.250.189        401       1\n",
      "23965  2022-01-22  12:16:13  149.5.250.189        401       1\n",
      "23966  2022-01-22  12:16:15  149.5.250.189        401       1\n",
      "23967  2022-01-22  12:16:16  149.5.250.189        401       1\n",
      "23968  2022-01-22  12:16:18  149.5.250.189        401       1\n",
      "23969  2022-01-22  12:16:19  149.5.250.189        401       1\n",
      "23970  2022-01-22  12:16:21  149.5.250.189        401       1\n",
      "23971  2022-01-22  12:16:23  149.5.250.189        401       1\n",
      "23974  2022-01-22  12:16:25  149.5.250.189        401       1\n",
      "23975  2022-01-22  12:16:28  149.5.250.189        401       1\n",
      "23976  2022-01-22  12:16:29  149.5.250.189        401       1\n",
      "23977  2022-01-22  12:16:31  149.5.250.189        401       1\n",
      "23978  2022-01-22  12:16:34  149.5.250.189        401       1\n",
      "23979  2022-01-22  12:16:36  149.5.250.189        401       1\n",
      "23980  2022-01-22  12:16:39  149.5.250.189        401       1\n",
      "23981  2022-01-22  12:16:40  149.5.250.189        401       1\n",
      "23982  2022-01-22  12:16:41  149.5.250.189        401       1\n",
      "23983  2022-01-22  12:16:43  149.5.250.189        401       1\n",
      "23986  2022-01-22  12:16:46  149.5.250.189        401       1\n",
      "23987  2022-01-22  12:16:48  149.5.250.189        401       1\n",
      "23988  2022-01-22  12:16:50  149.5.250.189        401       1\n",
      "23989  2022-01-22  12:16:51  149.5.250.189        401       1\n",
      "23990  2022-01-22  12:16:53  149.5.250.189        401       1\n",
      "23991  2022-01-22  12:16:56  149.5.250.189        401       1\n",
      "23993  2022-01-22  12:16:59  149.5.250.189        401       1\n",
      "23994  2022-01-22  12:17:00  149.5.250.189        401       1\n",
      "23996  2022-01-22  12:17:03  149.5.250.189        401       1\n",
      "23998  2022-01-22  12:17:04  149.5.250.189        401       1\n",
      "23999  2022-01-22  12:17:05  149.5.250.189        401       1\n",
      "24000  2022-01-22  12:17:06  149.5.250.189        401       1\n",
      "24001  2022-01-22  12:17:07  149.5.250.189        401       1\n",
      "24002  2022-01-22  12:17:10  149.5.250.189        401       1\n",
      "24003  2022-01-22  12:17:13  149.5.250.189        401       1\n",
      "24004  2022-01-22  12:17:15  149.5.250.189        401       1\n",
      "24005  2022-01-22  12:17:16  149.5.250.189        401       1\n",
      "24006  2022-01-22  12:17:19  149.5.250.189        401       1\n",
      "24008  2022-01-22  12:17:22  149.5.250.189        401       1\n",
      "24009  2022-01-22  12:17:25  149.5.250.189        401       1\n",
      "24011  2022-01-22  12:17:27  149.5.250.189        401       1\n",
      "24012  2022-01-22  12:17:29  149.5.250.189        401       1\n",
      "24014  2022-01-22  12:17:31  149.5.250.189        401       1\n",
      "24015  2022-01-22  12:17:32  149.5.250.189        401       1\n",
      "24016  2022-01-22  12:17:33  149.5.250.189        401       1\n",
      "24017  2022-01-22  12:17:34  149.5.250.189        401       1\n",
      "24018  2022-01-22  12:17:36  149.5.250.189        401       1\n",
      "24019  2022-01-22  12:17:39  149.5.250.189        401       1\n",
      "24020  2022-01-22  12:17:41  149.5.250.189        401       1\n",
      "24021  2022-01-22  12:17:44  149.5.250.189        401       1\n",
      "24022  2022-01-22  12:17:47  149.5.250.189        401       1\n",
      "24023  2022-01-22  12:17:50  149.5.250.189        401       1\n",
      "24024  2022-01-22  12:17:51  149.5.250.189        401       1\n",
      "24026  2022-01-22  12:17:53  149.5.250.189        401       1\n",
      "24027  2022-01-22  12:17:56  149.5.250.189        401       1\n",
      "24031  2022-01-22  12:17:58  149.5.250.189        401       1\n",
      "24032  2022-01-22  12:18:01  149.5.250.189        401       1\n",
      "24033  2022-01-22  12:18:04  149.5.250.189        401       1\n",
      "24034  2022-01-22  12:18:06  149.5.250.189        401       1\n",
      "24035  2022-01-22  12:18:07  149.5.250.189        401       1\n",
      "24036  2022-01-22  12:18:08  149.5.250.189        401       1\n",
      "24037  2022-01-22  12:18:11  149.5.250.189        401       1\n",
      "24038  2022-01-22  12:18:12  149.5.250.189        401       1\n",
      "24039  2022-01-22  12:18:14  149.5.250.189        401       1\n",
      "24040  2022-01-22  12:18:15  149.5.250.189        401       1\n",
      "24041  2022-01-22  12:18:16  149.5.250.189        401       1\n",
      "24043  2022-01-22  12:18:19  149.5.250.189        401       1\n",
      "24045  2022-01-22  12:18:22  149.5.250.189        401       1\n",
      "24046  2022-01-22  12:18:24  149.5.250.189        401       1\n",
      "24047  2022-01-22  12:18:25  149.5.250.189        401       1\n",
      "24048  2022-01-22  12:18:27  149.5.250.189        401       1\n",
      "24049  2022-01-22  12:18:28  149.5.250.189        401       1\n",
      "24050  2022-01-22  12:18:29  149.5.250.189        401       1\n",
      "24051  2022-01-22  12:18:32  149.5.250.189        401       1\n",
      "24052  2022-01-22  12:18:34  149.5.250.189        401       1\n",
      "24053  2022-01-22  12:18:36  149.5.250.189        401       1\n",
      "24054  2022-01-22  12:18:38  149.5.250.189        401       1\n",
      "24059  2022-01-22  12:18:41  149.5.250.189        401       1\n",
      "24060  2022-01-22  12:18:42  149.5.250.189        401       1\n",
      "24061  2022-01-22  12:18:45  149.5.250.189        401       1\n",
      "24062  2022-01-22  12:18:47  149.5.250.189        401       1\n",
      "24063  2022-01-22  12:18:48  149.5.250.189        401       1\n",
      "24064  2022-01-22  12:18:50  149.5.250.189        401       1\n",
      "24065  2022-01-22  12:18:52  149.5.250.189        401       1\n",
      "24067  2022-01-22  12:18:53  149.5.250.189        401       1\n",
      "24068  2022-01-22  12:18:56  149.5.250.189        401       1\n",
      "24069  2022-01-22  12:18:57  149.5.250.189        401       1\n",
      "24070  2022-01-22  12:19:00  149.5.250.189        401       1\n",
      "24071  2022-01-22  12:19:02  149.5.250.189        401       1\n",
      "24072  2022-01-22  12:19:03  149.5.250.189        401       1\n",
      "24073  2022-01-22  12:19:05  149.5.250.189        401       1\n",
      "24076  2022-01-22  12:19:06  149.5.250.189        401       1\n",
      "24077  2022-01-22  12:19:09  149.5.250.189        401       1\n",
      "24078  2022-01-22  12:19:11  149.5.250.189        401       1\n",
      "24079  2022-01-22  12:19:14  149.5.250.189        401       1\n",
      "24080  2022-01-22  12:19:17  149.5.250.189        401       1\n",
      "24081  2022-01-22  12:19:19  149.5.250.189        401       1\n",
      "24083  2022-01-22  12:19:20  149.5.250.189        401       1\n",
      "24084  2022-01-22  12:19:21  149.5.250.189        401       1\n",
      "24085  2022-01-22  12:19:22  149.5.250.189        401       1\n",
      "24086  2022-01-22  12:19:25  149.5.250.189        401       1\n",
      "24088  2022-01-22  12:19:27  149.5.250.189        401       1\n",
      "24089  2022-01-22  12:19:30  149.5.250.189        401       1\n",
      "24090  2022-01-22  12:19:33  149.5.250.189        401       1\n",
      "24091  2022-01-22  12:19:36  149.5.250.189        401       1\n",
      "24093  2022-01-22  12:19:37  149.5.250.189        401       1\n",
      "24094  2022-01-22  12:19:40  149.5.250.189        401       1\n",
      "24095  2022-01-22  12:19:41  149.5.250.189        401       1\n",
      "24096  2022-01-22  12:19:42  149.5.250.189        401       1\n",
      "24097  2022-01-22  12:19:44  149.5.250.189        401       1\n",
      "24098  2022-01-22  12:19:47  149.5.250.189        401       1\n",
      "24099  2022-01-22  12:19:49  149.5.250.189        401       1\n",
      "24100  2022-01-22  12:19:51  149.5.250.189        401       1\n",
      "24101  2022-01-22  12:19:54  149.5.250.189        401       1\n",
      "24102  2022-01-22  12:19:56  149.5.250.189        401       1\n",
      "24103  2022-01-22  12:19:58  149.5.250.189        401       1\n",
      "24104  2022-01-22  12:20:00  149.5.250.189        401       1\n",
      "24105  2022-01-22  12:20:02  149.5.250.189        401       1\n",
      "24107  2022-01-22  12:20:04  149.5.250.189        401       1\n",
      "24108  2022-01-22  12:20:05  149.5.250.189        401       1\n",
      "24109  2022-01-22  12:20:07  149.5.250.189        401       1\n",
      "24110  2022-01-22  12:20:10  149.5.250.189        401       1\n",
      "24111  2022-01-22  12:20:11  149.5.250.189        401       1\n",
      "24112  2022-01-22  12:20:12  149.5.250.189        401       1\n",
      "24114  2022-01-22  12:20:15  149.5.250.189        401       1\n",
      "24115  2022-01-22  12:20:17  149.5.250.189        401       1\n",
      "24116  2022-01-22  12:20:18  149.5.250.189        401       1\n",
      "24117  2022-01-22  12:20:19  149.5.250.189        401       1\n",
      "24118  2022-01-22  12:20:20  149.5.250.189        401       1\n",
      "24120  2022-01-22  12:20:23  149.5.250.189        401       1\n",
      "24121  2022-01-22  12:20:24  149.5.250.189        401       1\n",
      "24122  2022-01-22  12:20:27  149.5.250.189        401       1\n",
      "24123  2022-01-22  12:20:28  149.5.250.189        401       1\n",
      "24124  2022-01-22  12:20:30  149.5.250.189        401       1\n",
      "24125  2022-01-22  12:20:33  149.5.250.189        401       1\n",
      "24126  2022-01-22  12:20:35  149.5.250.189        401       1\n",
      "24127  2022-01-22  12:20:38  149.5.250.189        401       1\n",
      "24128  2022-01-22  12:20:41  149.5.250.189        401       1\n",
      "24129  2022-01-22  12:20:42  149.5.250.189        401       1\n",
      "24130  2022-01-22  12:20:43  149.5.250.189        401       1\n",
      "24131  2022-01-22  12:20:46  149.5.250.189        401       1\n",
      "24132  2022-01-22  12:20:49  149.5.250.189        401       1\n",
      "24133  2022-01-22  12:20:51  149.5.250.189        401       1\n",
      "24134  2022-01-22  12:20:54  149.5.250.189        401       1\n",
      "24135  2022-01-22  12:20:57  149.5.250.189        401       1\n",
      "24136  2022-01-22  12:20:59  149.5.250.189        401       1\n",
      "24137  2022-01-22  12:21:02  149.5.250.189        401       1\n",
      "24138  2022-01-22  12:21:05  149.5.250.189        401       1\n",
      "24139  2022-01-22  12:21:07  149.5.250.189        401       1\n",
      "24140  2022-01-22  12:21:08  149.5.250.189        401       1\n",
      "24141  2022-01-22  12:21:11  149.5.250.189        401       1\n",
      "24142  2022-01-22  12:21:14  149.5.250.189        401       1\n",
      "24143  2022-01-22  12:21:17  149.5.250.189        401       1\n",
      "24144  2022-01-22  12:21:18  149.5.250.189        401       1\n",
      "24145  2022-01-22  12:21:21  149.5.250.189        401       1\n",
      "24146  2022-01-22  12:21:22  149.5.250.189        401       1\n",
      "24147  2022-01-22  12:21:25  149.5.250.189        401       1\n",
      "24148  2022-01-22  12:21:28  149.5.250.189        401       1\n",
      "24149  2022-01-22  12:21:30  149.5.250.189        401       1\n",
      "24150  2022-01-22  12:21:33  149.5.250.189        401       1\n",
      "24151  2022-01-22  12:21:35  149.5.250.189        401       1\n",
      "24152  2022-01-22  12:21:37  149.5.250.189        401       1\n",
      "24153  2022-01-22  12:21:40  149.5.250.189        401       1\n",
      "24154  2022-01-22  12:21:43  149.5.250.189        401       1\n",
      "24155  2022-01-22  12:21:46  149.5.250.189        401       1\n",
      "24156  2022-01-22  12:21:48  149.5.250.189        401       1\n",
      "24157  2022-01-22  12:21:51  149.5.250.189        401       1\n",
      "24158  2022-01-22  12:21:53  149.5.250.189        401       1\n",
      "24159  2022-01-22  12:21:55  149.5.250.189        401       1\n",
      "24160  2022-01-22  12:21:58  149.5.250.189        401       1\n",
      "24161  2022-01-22  12:22:01  149.5.250.189        401       1\n",
      "24162  2022-01-22  12:22:04  149.5.250.189        401       1\n",
      "24163  2022-01-22  12:22:05  149.5.250.189        401       1\n",
      "24164  2022-01-22  12:22:07  149.5.250.189        401       1\n",
      "24165  2022-01-22  12:22:09  149.5.250.189        401       1\n",
      "24166  2022-01-22  12:22:12  149.5.250.189        401       1\n",
      "24167  2022-01-22  12:22:13  149.5.250.189        401       1\n",
      "24168  2022-01-22  12:22:16  149.5.250.189        401       1\n",
      "24169  2022-01-22  12:22:17  149.5.250.189        401       1\n",
      "24170  2022-01-22  12:22:19  149.5.250.189        401       1\n",
      "24171  2022-01-22  12:22:22  149.5.250.189        401       1\n",
      "24172  2022-01-22  12:22:25  149.5.250.189        401       1\n",
      "24173  2022-01-22  12:22:27  149.5.250.189        401       1\n",
      "24174  2022-01-22  12:22:28  149.5.250.189        401       1\n",
      "24175  2022-01-22  12:22:31  149.5.250.189        401       1\n",
      "24176  2022-01-22  12:22:33  149.5.250.189        401       1\n",
      "24177  2022-01-22  12:22:34  149.5.250.189        401       1\n",
      "24178  2022-01-22  12:22:35  149.5.250.189        401       1\n",
      "24179  2022-01-22  12:22:36  149.5.250.189        401       1\n"
     ]
    }
   ],
   "source": [
    "pd.set_option('display.max_rows', None)\n",
    "time_frame_group=data.groupby(['date','time','c-ip', 'sc-status']).size()\n",
    "\n",
    "count_time_frame=time_frame_group.to_frame(name=\"counts\").reset_index()\n",
    "\n",
    "sip1=(count_time_frame['sc-status']==401)&(count_time_frame['c-ip']=='149.5.250.189')\n",
    "\n",
    "print(count_time_frame[sip1])"
   ]
  },
  {
   "cell_type": "markdown",
   "metadata": {},
   "source": [
    "This summary shows a rundown of the unauthorized attempts from the ip adress **149.5.250.189** in relation to the time that the attempts were made. <br>\n",
    "The attempts were made on the same day with an average of 1-2 seconds time difference between each attempts "
   ]
  },
  {
   "cell_type": "code",
   "execution_count": 3,
   "metadata": {},
   "outputs": [
    {
     "name": "stdout",
     "output_type": "stream",
     "text": [
      "            date      time            c-ip  sc-status  counts\n",
      "1219  2022-01-01  21:27:24  192.151.139.83        401       1\n",
      "1220  2022-01-01  21:27:25  192.151.139.83        401       1\n",
      "1223  2022-01-01  21:27:27  192.151.139.83        401       1\n",
      "1224  2022-01-01  21:27:29  192.151.139.83        401       1\n",
      "1225  2022-01-01  21:27:31  192.151.139.83        401       1\n",
      "1226  2022-01-01  21:27:32  192.151.139.83        401       1\n",
      "1227  2022-01-01  21:27:34  192.151.139.83        401       1\n",
      "1230  2022-01-01  21:27:36  192.151.139.83        401       1\n",
      "1231  2022-01-01  21:27:38  192.151.139.83        401       1\n",
      "1234  2022-01-01  21:27:41  192.151.139.83        401       1\n",
      "1235  2022-01-01  21:27:44  192.151.139.83        401       1\n",
      "1236  2022-01-01  21:27:45  192.151.139.83        401       1\n",
      "1237  2022-01-01  21:27:48  192.151.139.83        401       1\n",
      "1238  2022-01-01  21:27:50  192.151.139.83        401       1\n",
      "1239  2022-01-01  21:27:53  192.151.139.83        401       1\n",
      "1240  2022-01-01  21:27:54  192.151.139.83        401       1\n",
      "1241  2022-01-01  21:27:55  192.151.139.83        401       1\n",
      "1242  2022-01-01  21:27:57  192.151.139.83        401       1\n",
      "1243  2022-01-01  21:28:00  192.151.139.83        401       1\n",
      "1244  2022-01-01  21:28:02  192.151.139.83        401       1\n",
      "1247  2022-01-01  21:28:05  192.151.139.83        401       1\n",
      "1248  2022-01-01  21:28:07  192.151.139.83        401       1\n",
      "1249  2022-01-01  21:28:08  192.151.139.83        401       1\n",
      "1250  2022-01-01  21:28:10  192.151.139.83        401       1\n",
      "1251  2022-01-01  21:28:12  192.151.139.83        401       1\n",
      "1252  2022-01-01  21:28:14  192.151.139.83        401       1\n",
      "1253  2022-01-01  21:28:17  192.151.139.83        401       1\n",
      "1254  2022-01-01  21:28:19  192.151.139.83        401       1\n",
      "1256  2022-01-01  21:28:22  192.151.139.83        401       1\n",
      "1257  2022-01-01  21:28:25  192.151.139.83        401       1\n",
      "1258  2022-01-01  21:28:26  192.151.139.83        401       1\n",
      "1259  2022-01-01  21:28:28  192.151.139.83        401       1\n",
      "1260  2022-01-01  21:28:30  192.151.139.83        401       1\n",
      "1262  2022-01-01  21:28:32  192.151.139.83        401       1\n",
      "1263  2022-01-01  21:28:34  192.151.139.83        401       1\n",
      "1265  2022-01-01  21:28:37  192.151.139.83        401       1\n",
      "1267  2022-01-01  21:28:39  192.151.139.83        401       1\n",
      "1268  2022-01-01  21:28:41  192.151.139.83        401       1\n",
      "1269  2022-01-01  21:28:44  192.151.139.83        401       1\n",
      "1270  2022-01-01  21:28:47  192.151.139.83        401       1\n",
      "1271  2022-01-01  21:28:49  192.151.139.83        401       1\n",
      "1272  2022-01-01  21:28:50  192.151.139.83        401       1\n",
      "1273  2022-01-01  21:28:53  192.151.139.83        401       1\n",
      "1274  2022-01-01  21:28:55  192.151.139.83        401       1\n",
      "1275  2022-01-01  21:28:57  192.151.139.83        401       1\n",
      "1276  2022-01-01  21:28:59  192.151.139.83        401       1\n",
      "1277  2022-01-01  21:29:01  192.151.139.83        401       1\n",
      "1278  2022-01-01  21:29:02  192.151.139.83        401       1\n",
      "1279  2022-01-01  21:29:05  192.151.139.83        401       1\n",
      "1280  2022-01-01  21:29:06  192.151.139.83        401       1\n",
      "1283  2022-01-01  21:29:09  192.151.139.83        401       1\n",
      "1284  2022-01-01  21:29:12  192.151.139.83        401       1\n",
      "1285  2022-01-01  21:29:13  192.151.139.83        401       1\n",
      "1286  2022-01-01  21:29:16  192.151.139.83        401       1\n",
      "1287  2022-01-01  21:29:18  192.151.139.83        401       1\n",
      "1288  2022-01-01  21:29:20  192.151.139.83        401       1\n",
      "1289  2022-01-01  21:29:21  192.151.139.83        401       1\n",
      "1290  2022-01-01  21:29:24  192.151.139.83        401       1\n",
      "1291  2022-01-01  21:29:27  192.151.139.83        401       1\n",
      "1292  2022-01-01  21:29:28  192.151.139.83        401       1\n",
      "1293  2022-01-01  21:29:29  192.151.139.83        401       1\n",
      "1294  2022-01-01  21:29:30  192.151.139.83        401       1\n",
      "1295  2022-01-01  21:29:31  192.151.139.83        401       1\n",
      "1297  2022-01-01  21:29:34  192.151.139.83        401       1\n",
      "1298  2022-01-01  21:29:35  192.151.139.83        401       1\n",
      "1299  2022-01-01  21:29:36  192.151.139.83        401       1\n",
      "1301  2022-01-01  21:29:39  192.151.139.83        401       1\n",
      "1302  2022-01-01  21:29:40  192.151.139.83        401       1\n",
      "1303  2022-01-01  21:29:42  192.151.139.83        401       1\n",
      "1304  2022-01-01  21:29:44  192.151.139.83        401       1\n",
      "1305  2022-01-01  21:29:45  192.151.139.83        401       1\n",
      "1306  2022-01-01  21:29:47  192.151.139.83        401       1\n",
      "1307  2022-01-01  21:29:50  192.151.139.83        401       1\n",
      "1308  2022-01-01  21:29:52  192.151.139.83        401       1\n",
      "1309  2022-01-01  21:29:54  192.151.139.83        401       1\n",
      "1310  2022-01-01  21:29:56  192.151.139.83        401       1\n",
      "1311  2022-01-01  21:29:58  192.151.139.83        401       1\n",
      "1312  2022-01-01  21:30:00  192.151.139.83        401       1\n",
      "1313  2022-01-01  21:30:01  192.151.139.83        401       1\n",
      "1314  2022-01-01  21:30:03  192.151.139.83        401       1\n",
      "1315  2022-01-01  21:30:04  192.151.139.83        401       1\n",
      "1316  2022-01-01  21:30:05  192.151.139.83        401       1\n",
      "1317  2022-01-01  21:30:06  192.151.139.83        401       1\n",
      "1318  2022-01-01  21:30:09  192.151.139.83        401       1\n",
      "1319  2022-01-01  21:30:12  192.151.139.83        401       1\n",
      "1320  2022-01-01  21:30:15  192.151.139.83        401       1\n",
      "1321  2022-01-01  21:30:16  192.151.139.83        401       1\n",
      "1322  2022-01-01  21:30:17  192.151.139.83        401       1\n",
      "1323  2022-01-01  21:30:18  192.151.139.83        401       1\n",
      "1324  2022-01-01  21:30:21  192.151.139.83        401       1\n",
      "1325  2022-01-01  21:30:24  192.151.139.83        401       1\n",
      "1326  2022-01-01  21:30:27  192.151.139.83        401       1\n",
      "1327  2022-01-01  21:30:28  192.151.139.83        401       1\n",
      "1328  2022-01-01  21:30:30  192.151.139.83        401       1\n",
      "1329  2022-01-01  21:30:33  192.151.139.83        401       1\n",
      "1330  2022-01-01  21:30:35  192.151.139.83        401       1\n",
      "1331  2022-01-01  21:30:38  192.151.139.83        401       1\n",
      "1332  2022-01-01  21:30:41  192.151.139.83        401       1\n",
      "1333  2022-01-01  21:30:43  192.151.139.83        401       1\n",
      "1334  2022-01-01  21:30:46  192.151.139.83        401       1\n",
      "1335  2022-01-01  21:30:48  192.151.139.83        401       1\n",
      "1336  2022-01-01  21:30:51  192.151.139.83        401       1\n",
      "1337  2022-01-01  21:30:54  192.151.139.83        401       1\n",
      "1338  2022-01-01  21:30:55  192.151.139.83        401       1\n",
      "1339  2022-01-01  21:30:58  192.151.139.83        401       1\n",
      "1340  2022-01-01  21:31:00  192.151.139.83        401       1\n",
      "1341  2022-01-01  21:31:03  192.151.139.83        401       1\n",
      "1342  2022-01-01  21:31:04  192.151.139.83        401       1\n",
      "1343  2022-01-01  21:31:07  192.151.139.83        401       1\n",
      "1344  2022-01-01  21:31:09  192.151.139.83        401       1\n",
      "1345  2022-01-01  21:31:10  192.151.139.83        401       1\n",
      "1346  2022-01-01  21:31:12  192.151.139.83        401       1\n",
      "1347  2022-01-01  21:31:13  192.151.139.83        401       1\n",
      "1348  2022-01-01  21:31:15  192.151.139.83        401       1\n",
      "1349  2022-01-01  21:31:17  192.151.139.83        401       1\n",
      "1350  2022-01-01  21:31:19  192.151.139.83        401       1\n",
      "1351  2022-01-01  21:31:21  192.151.139.83        401       1\n",
      "1352  2022-01-01  21:31:22  192.151.139.83        401       1\n",
      "1353  2022-01-01  21:31:25  192.151.139.83        401       1\n",
      "1354  2022-01-01  21:31:28  192.151.139.83        401       1\n",
      "1355  2022-01-01  21:31:29  192.151.139.83        401       1\n",
      "1356  2022-01-01  21:31:31  192.151.139.83        401       1\n",
      "1357  2022-01-01  21:31:34  192.151.139.83        401       1\n",
      "1358  2022-01-01  21:31:35  192.151.139.83        401       1\n",
      "1359  2022-01-01  21:31:37  192.151.139.83        401       1\n",
      "1360  2022-01-01  21:31:40  192.151.139.83        401       1\n",
      "1361  2022-01-01  21:31:42  192.151.139.83        401       1\n",
      "1362  2022-01-01  21:31:44  192.151.139.83        401       1\n",
      "1363  2022-01-01  21:31:46  192.151.139.83        401       1\n",
      "1364  2022-01-01  21:31:48  192.151.139.83        401       1\n",
      "1365  2022-01-01  21:31:51  192.151.139.83        401       1\n",
      "1366  2022-01-01  21:31:53  192.151.139.83        401       1\n",
      "1367  2022-01-01  21:31:54  192.151.139.83        401       1\n",
      "1368  2022-01-01  21:31:56  192.151.139.83        401       1\n",
      "1369  2022-01-01  21:31:58  192.151.139.83        401       1\n",
      "1370  2022-01-01  21:31:59  192.151.139.83        401       1\n",
      "1371  2022-01-01  21:32:02  192.151.139.83        401       1\n",
      "1372  2022-01-01  21:32:03  192.151.139.83        401       1\n",
      "1373  2022-01-01  21:32:06  192.151.139.83        401       1\n",
      "1374  2022-01-01  21:32:08  192.151.139.83        401       1\n",
      "1375  2022-01-01  21:32:10  192.151.139.83        401       1\n",
      "1376  2022-01-01  21:32:13  192.151.139.83        401       1\n",
      "1377  2022-01-01  21:32:15  192.151.139.83        401       1\n"
     ]
    }
   ],
   "source": [
    "pd.set_option('display.max_rows', None)\n",
    "time_frame_group=data.groupby(['date','time','c-ip', 'sc-status']).size()\n",
    "\n",
    "count_time_frame=time_frame_group.to_frame(name=\"counts\").reset_index()\n",
    "\n",
    "sip2=(count_time_frame['sc-status']==401)&(count_time_frame['c-ip']=='192.151.139.83')\n",
    "\n",
    "print(count_time_frame[sip2])"
   ]
  },
  {
   "cell_type": "markdown",
   "metadata": {},
   "source": [
    "This summary shows a rundown of the unauthorized attempts from the ip adress **192.151.139.83** in relation to the time that the attempts were made. <br>\n",
    "The attempts were made on the same day with an average of 1-2 seconds time difference between each attempts "
   ]
  },
  {
   "cell_type": "code",
   "execution_count": 94,
   "metadata": {},
   "outputs": [
    {
     "name": "stdout",
     "output_type": "stream",
     "text": [
      "             date      time           c-ip  sc-status  counts\n",
      "26389  2022-01-24  09:57:05  195.12.35.175        401       1\n",
      "26390  2022-01-24  09:57:06  195.12.35.175        401       1\n",
      "26391  2022-01-24  09:57:07  195.12.35.175        401       1\n",
      "26392  2022-01-24  09:57:08  195.12.35.175        401       1\n",
      "26393  2022-01-24  09:57:09  195.12.35.175        401       1\n",
      "26394  2022-01-24  09:57:10  195.12.35.175        401       1\n",
      "26395  2022-01-24  09:57:13  195.12.35.175        401       1\n",
      "26396  2022-01-24  09:57:15  195.12.35.175        401       1\n",
      "26399  2022-01-24  09:57:17  195.12.35.175        401       1\n",
      "26400  2022-01-24  09:57:18  195.12.35.175        401       1\n",
      "26401  2022-01-24  09:57:19  195.12.35.175        401       1\n",
      "26402  2022-01-24  09:57:20  195.12.35.175        401       1\n",
      "26403  2022-01-24  09:57:23  195.12.35.175        401       1\n",
      "26404  2022-01-24  09:57:26  195.12.35.175        401       1\n",
      "26405  2022-01-24  09:57:29  195.12.35.175        401       1\n",
      "26406  2022-01-24  09:57:31  195.12.35.175        401       1\n",
      "26407  2022-01-24  09:57:32  195.12.35.175        401       1\n",
      "26408  2022-01-24  09:57:34  195.12.35.175        401       1\n",
      "26409  2022-01-24  09:57:37  195.12.35.175        401       1\n",
      "26410  2022-01-24  09:57:39  195.12.35.175        401       1\n",
      "26411  2022-01-24  09:57:41  195.12.35.175        401       1\n",
      "26412  2022-01-24  09:57:42  195.12.35.175        401       1\n",
      "26414  2022-01-24  09:57:43  195.12.35.175        401       1\n",
      "26415  2022-01-24  09:57:46  195.12.35.175        401       1\n",
      "26416  2022-01-24  09:57:48  195.12.35.175        401       1\n",
      "26417  2022-01-24  09:57:49  195.12.35.175        401       1\n",
      "26420  2022-01-24  09:57:51  195.12.35.175        401       1\n",
      "26421  2022-01-24  09:57:54  195.12.35.175        401       1\n",
      "26422  2022-01-24  09:57:56  195.12.35.175        401       1\n",
      "26423  2022-01-24  09:57:58  195.12.35.175        401       1\n",
      "26424  2022-01-24  09:58:01  195.12.35.175        401       1\n",
      "26425  2022-01-24  09:58:02  195.12.35.175        401       1\n",
      "26426  2022-01-24  09:58:04  195.12.35.175        401       1\n",
      "26427  2022-01-24  09:58:06  195.12.35.175        401       1\n",
      "26429  2022-01-24  09:58:08  195.12.35.175        401       1\n",
      "26430  2022-01-24  09:58:11  195.12.35.175        401       1\n",
      "26431  2022-01-24  09:58:12  195.12.35.175        401       1\n",
      "26433  2022-01-24  09:58:14  195.12.35.175        401       1\n",
      "26434  2022-01-24  09:58:15  195.12.35.175        401       1\n",
      "26435  2022-01-24  09:58:16  195.12.35.175        401       1\n",
      "26437  2022-01-24  09:58:19  195.12.35.175        401       1\n",
      "26438  2022-01-24  09:58:21  195.12.35.175        401       1\n",
      "26439  2022-01-24  09:58:24  195.12.35.175        401       1\n",
      "26440  2022-01-24  09:58:26  195.12.35.175        401       1\n",
      "26441  2022-01-24  09:58:28  195.12.35.175        401       1\n",
      "26442  2022-01-24  09:58:29  195.12.35.175        401       1\n",
      "26443  2022-01-24  09:58:30  195.12.35.175        401       1\n",
      "26444  2022-01-24  09:58:31  195.12.35.175        401       1\n",
      "26445  2022-01-24  09:58:32  195.12.35.175        401       1\n",
      "26446  2022-01-24  09:58:35  195.12.35.175        401       1\n",
      "26447  2022-01-24  09:58:36  195.12.35.175        401       1\n",
      "26448  2022-01-24  09:58:37  195.12.35.175        401       1\n",
      "26449  2022-01-24  09:58:40  195.12.35.175        401       1\n",
      "26450  2022-01-24  09:58:42  195.12.35.175        401       1\n",
      "26451  2022-01-24  09:58:45  195.12.35.175        401       1\n",
      "26452  2022-01-24  09:58:46  195.12.35.175        401       1\n",
      "26453  2022-01-24  09:58:48  195.12.35.175        401       1\n",
      "26454  2022-01-24  09:58:49  195.12.35.175        401       1\n",
      "26455  2022-01-24  09:58:52  195.12.35.175        401       1\n",
      "26456  2022-01-24  09:58:54  195.12.35.175        401       1\n",
      "26457  2022-01-24  09:58:56  195.12.35.175        401       1\n",
      "26458  2022-01-24  09:58:59  195.12.35.175        401       1\n",
      "26459  2022-01-24  09:59:02  195.12.35.175        401       1\n",
      "26460  2022-01-24  09:59:03  195.12.35.175        401       1\n",
      "26461  2022-01-24  09:59:05  195.12.35.175        401       1\n",
      "26462  2022-01-24  09:59:06  195.12.35.175        401       1\n",
      "26463  2022-01-24  09:59:08  195.12.35.175        401       1\n",
      "26464  2022-01-24  09:59:10  195.12.35.175        401       1\n",
      "26465  2022-01-24  09:59:11  195.12.35.175        401       1\n",
      "26466  2022-01-24  09:59:14  195.12.35.175        401       1\n",
      "26467  2022-01-24  09:59:17  195.12.35.175        401       1\n",
      "26468  2022-01-24  09:59:18  195.12.35.175        401       1\n",
      "26469  2022-01-24  09:59:21  195.12.35.175        401       1\n",
      "26470  2022-01-24  09:59:24  195.12.35.175        401       1\n",
      "26471  2022-01-24  09:59:27  195.12.35.175        401       1\n",
      "26472  2022-01-24  09:59:28  195.12.35.175        401       1\n",
      "26473  2022-01-24  09:59:31  195.12.35.175        401       1\n",
      "26474  2022-01-24  09:59:32  195.12.35.175        401       1\n",
      "26475  2022-01-24  09:59:34  195.12.35.175        401       1\n",
      "26476  2022-01-24  09:59:36  195.12.35.175        401       1\n",
      "26477  2022-01-24  09:59:38  195.12.35.175        401       1\n",
      "26478  2022-01-24  09:59:40  195.12.35.175        401       1\n",
      "26479  2022-01-24  09:59:41  195.12.35.175        401       1\n",
      "26480  2022-01-24  09:59:42  195.12.35.175        401       1\n",
      "26481  2022-01-24  09:59:44  195.12.35.175        401       1\n",
      "26482  2022-01-24  09:59:45  195.12.35.175        401       1\n",
      "26483  2022-01-24  09:59:47  195.12.35.175        401       1\n",
      "26484  2022-01-24  09:59:50  195.12.35.175        401       1\n",
      "26485  2022-01-24  09:59:53  195.12.35.175        401       1\n",
      "26486  2022-01-24  09:59:56  195.12.35.175        401       1\n",
      "26487  2022-01-24  09:59:58  195.12.35.175        401       1\n",
      "26488  2022-01-24  09:59:59  195.12.35.175        401       1\n",
      "26489  2022-01-24  10:00:02  195.12.35.175        401       1\n",
      "26490  2022-01-24  10:00:04  195.12.35.175        401       1\n",
      "26491  2022-01-24  10:00:06  195.12.35.175        401       1\n",
      "26492  2022-01-24  10:00:07  195.12.35.175        401       1\n",
      "26493  2022-01-24  10:00:10  195.12.35.175        401       1\n",
      "26494  2022-01-24  10:00:13  195.12.35.175        401       1\n",
      "26495  2022-01-24  10:00:14  195.12.35.175        401       1\n",
      "26496  2022-01-24  10:00:16  195.12.35.175        401       1\n",
      "26497  2022-01-24  10:00:18  195.12.35.175        401       1\n",
      "26498  2022-01-24  10:00:19  195.12.35.175        401       1\n",
      "26499  2022-01-24  10:00:20  195.12.35.175        401       1\n",
      "26500  2022-01-24  10:00:23  195.12.35.175        401       1\n",
      "26501  2022-01-24  10:00:26  195.12.35.175        401       1\n",
      "26502  2022-01-24  10:00:28  195.12.35.175        401       1\n",
      "26503  2022-01-24  10:00:29  195.12.35.175        401       1\n",
      "26504  2022-01-24  10:00:32  195.12.35.175        401       1\n",
      "26505  2022-01-24  10:00:34  195.12.35.175        401       1\n",
      "26506  2022-01-24  10:00:37  195.12.35.175        401       1\n",
      "26507  2022-01-24  10:00:39  195.12.35.175        401       1\n",
      "26508  2022-01-24  10:00:41  195.12.35.175        401       1\n",
      "26509  2022-01-24  10:00:42  195.12.35.175        401       1\n",
      "26510  2022-01-24  10:00:44  195.12.35.175        401       1\n",
      "26511  2022-01-24  10:00:47  195.12.35.175        401       1\n",
      "26512  2022-01-24  10:00:49  195.12.35.175        401       1\n",
      "26513  2022-01-24  10:00:52  195.12.35.175        401       1\n",
      "26514  2022-01-24  10:00:54  195.12.35.175        401       1\n",
      "26515  2022-01-24  10:00:57  195.12.35.175        401       1\n",
      "26518  2022-01-24  10:01:00  195.12.35.175        401       1\n",
      "26519  2022-01-24  10:01:02  195.12.35.175        401       1\n",
      "26520  2022-01-24  10:01:04  195.12.35.175        401       1\n",
      "26523  2022-01-24  10:01:07  195.12.35.175        401       1\n"
     ]
    }
   ],
   "source": [
    "pd.set_option('display.max_rows', None)\n",
    "time_frame_group=data.groupby(['date','time','c-ip', 'sc-status']).size()\n",
    "\n",
    "count_time_frame=time_frame_group.to_frame(name=\"counts\").reset_index()\n",
    "\n",
    "sip3=(count_time_frame['sc-status']==401)&(count_time_frame['c-ip']=='195.12.35.175')\n",
    "\n",
    "print(count_time_frame[sip3])"
   ]
  },
  {
   "cell_type": "markdown",
   "metadata": {},
   "source": [
    "This summary shows a rundown of the unauthorized attempts from the ip adress **195.12.35.175** in relation to the time that the attempts were made. <br>\n",
    "The attempts were made on the same day with an average of 1-2 seconds time difference between each attempts "
   ]
  },
  {
   "cell_type": "code",
   "execution_count": 7,
   "metadata": {},
   "outputs": [
    {
     "name": "stdout",
     "output_type": "stream",
     "text": [
      "               c-ip  sc-status cs-method  cs-uri-stem  counts\n",
      "3251  149.5.250.189        301       GET   index.aspx       1\n",
      "3252  149.5.250.189        301       GET  logout.aspx       1\n",
      "3253  149.5.250.189        301      POST   login.aspx       1 \n",
      "\n",
      "                 c-ip  sc-status cs-method  cs-uri-stem  counts\n",
      "11977  192.151.139.83        301       GET   index.aspx       1\n",
      "11978  192.151.139.83        301       GET  logout.aspx       1\n",
      "11979  192.151.139.83        301      POST   login.aspx       1 \n",
      "\n",
      "                c-ip  sc-status cs-method  cs-uri-stem  counts\n",
      "16446  195.12.35.175        301       GET   index.aspx       1\n",
      "16447  195.12.35.175        301       GET  logout.aspx       1\n",
      "16448  195.12.35.175        301      POST   login.aspx       1 \n",
      "\n"
     ]
    }
   ],
   "source": [
    "method_frame_group=data.groupby(['c-ip', 'sc-status','cs-method','cs-uri-stem']).size()\n",
    "count_method=method_frame_group.to_frame(name=\"counts\").reset_index()\n",
    "\n",
    "count_301=(count_method['sc-status']==301)&(count_method['c-ip']=='149.5.250.189')\n",
    "print(count_method[count_301] ,\"\\n\")\n",
    "\n",
    "\n",
    "\n",
    "count_301=(count_method['sc-status']==301)&(count_method['c-ip']=='192.151.139.83')\n",
    "print(count_method[count_301] ,\"\\n\")\n",
    "\n",
    "\n",
    "count_301=(count_method['sc-status']==301)&(count_method['c-ip']=='195.12.35.175')\n",
    "print(count_method[count_301] ,\"\\n\")"
   ]
  },
  {
   "cell_type": "markdown",
   "metadata": {},
   "source": [
    "# 301\n",
    "The summary above is to check if there were any successful login from the suspected IP addresses, it shows that each of the IP addresses had at least one successful login with the POST method, as a redirection (301) to the index and logout page are present"
   ]
  },
  {
   "cell_type": "code",
   "execution_count": 14,
   "metadata": {
    "scrolled": true
   },
   "outputs": [
    {
     "name": "stdout",
     "output_type": "stream",
     "text": [
      "             c-ip                                     cs(User-Agent)  counts\n",
      "88  149.5.250.189  Mozilla/5.0+(iPhone;+CPU+iPhone+OS+9_0+like+Ma...     287 \n",
      "\n",
      "               c-ip                                     cs(User-Agent)  counts\n",
      "340  192.151.139.83  Mozilla/5.0+(iPhone;+CPU+iPhone+OS+9_0+like+Ma...     215 \n",
      "\n",
      "              c-ip                                     cs(User-Agent)  counts\n",
      "468  195.12.35.175  Mozilla/5.0+(iPhone;+CPU+iPhone+OS+9_0+like+Ma...     201 \n",
      "\n"
     ]
    }
   ],
   "source": [
    "useragent_frame_group=data.groupby(['c-ip','cs(User-Agent)']).size()\n",
    "count_uagent=useragent_frame_group.to_frame(name=\"counts\").reset_index()\n",
    "count_uagent_f=(count_uagent['c-ip']=='149.5.250.189')\n",
    "print(count_uagent[count_uagent_f],\"\\n\")\n",
    "\n",
    "useragent_frame_group=data.groupby(['c-ip','cs(User-Agent)']).size()\n",
    "count_uagent=useragent_frame_group.to_frame(name=\"counts\").reset_index()\n",
    "count_uagent_f=(count_uagent['c-ip']=='192.151.139.83')\n",
    "print(count_uagent[count_uagent_f],\"\\n\")\n",
    "\n",
    "\n",
    "useragent_frame_group=data.groupby(['c-ip','cs(User-Agent)']).size()\n",
    "count_uagent=useragent_frame_group.to_frame(name=\"counts\").reset_index()\n",
    "count_uagent_f=(count_uagent['c-ip']=='195.12.35.175')\n",
    "print(count_uagent[count_uagent_f],\"\\n\")\n",
    "\n"
   ]
  },
  {
   "cell_type": "markdown",
   "metadata": {},
   "source": [
    "The above summary indicates that similar device type and browser were used to make the attempts, it might imply that the attempts were made by the same person or group of people. <br> This however could be fake data intentionally sent by the attacker."
   ]
  },
  {
   "cell_type": "markdown",
   "metadata": {},
   "source": [
    "# My Conclusion"
   ]
  },
  {
   "cell_type": "markdown",
   "metadata": {},
   "source": [
    "After investigation of the system logs, the following IP addresses appear to be malicious:\n",
    "1. 149.5.250.189        \n",
    "2. 192.151.139.83        \n",
    "3. 195.12.35.175 \n",
    "\n",
    "The activity in the logs shows a bruteforce attack as there are multiple unuathorized attempts [401](#401)and at least one successful login [301](#301).\n",
    "\n",
    "Something else to note is that the attempts were made on different days\n",
    "<br>\n",
    "Further investigation below can be carried out to further drill down on the attack\n",
    "1. Is the traffic coming from a recognised host username to determine is user's login credentials has been compromised.\n",
    "2. Are the requests coming from a recognised device to dtermine if a user's device has been compromised"
   ]
  },
  {
   "cell_type": "markdown",
   "metadata": {},
   "source": [
    "# References\n",
    "\n",
    "pandas.DataFrame.groupby Available from: __[Pandas Documentation](https://pandas.pydata.org/pandas-docs/stable/reference/api/pandas.DataFrame.groupby.html)__ [Accessed 01 March 2022]"
   ]
  }
 ],
 "metadata": {
  "kernelspec": {
   "display_name": "Python 3 (ipykernel)",
   "language": "python",
   "name": "python3"
  },
  "language_info": {
   "codemirror_mode": {
    "name": "ipython",
    "version": 3
   },
   "file_extension": ".py",
   "mimetype": "text/x-python",
   "name": "python",
   "nbconvert_exporter": "python",
   "pygments_lexer": "ipython3",
   "version": "3.13.2"
  },
  "widgets": {
   "application/vnd.jupyter.widget-state+json": {
    "state": {},
    "version_major": 2,
    "version_minor": 0
   }
  }
 },
 "nbformat": 4,
 "nbformat_minor": 4
}
